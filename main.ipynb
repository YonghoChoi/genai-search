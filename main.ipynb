{
 "cells": [
  {
   "metadata": {},
   "cell_type": "markdown",
   "source": [
    "## 사전작업\n",
    "- OpenSearch 클러스터 구성\n",
    "- ML Connector 구성\n",
    "- Bedrock 임베딩 모델 integration\n",
    "- Ingestion pipeline 생성\n",
    "- 참고 : https://www.notion.so/yongho1037/OpenSearch-15bc3cd13fbf8017a128dc4845fbe2d5?pvs=4"
   ],
   "id": "4dc38255cfde2e13"
  },
  {
   "metadata": {},
   "cell_type": "code",
   "outputs": [
    {
     "name": "stdout",
     "output_type": "stream",
     "text": [
      "Requirement already satisfied: pyyaml in ./.venv/lib/python3.12/site-packages (6.0.2)\r\n",
      "Collecting opensearch-py\r\n",
      "  Obtaining dependency information for opensearch-py from https://files.pythonhosted.org/packages/23/35/a957c6fb88ff6874996be688448b889475cf0ea978446cd5a30e764e0561/opensearch_py-2.8.0-py3-none-any.whl.metadata\r\n",
      "  Downloading opensearch_py-2.8.0-py3-none-any.whl.metadata (6.9 kB)\r\n",
      "Requirement already satisfied: urllib3!=2.2.0,!=2.2.1,<3,>=1.26.19 in ./.venv/lib/python3.12/site-packages (from opensearch-py) (2.3.0)\r\n",
      "Requirement already satisfied: requests<3.0.0,>=2.32.0 in ./.venv/lib/python3.12/site-packages (from opensearch-py) (2.32.3)\r\n",
      "Requirement already satisfied: python-dateutil in ./.venv/lib/python3.12/site-packages (from opensearch-py) (2.9.0.post0)\r\n",
      "Requirement already satisfied: certifi>=2024.07.04 in ./.venv/lib/python3.12/site-packages (from opensearch-py) (2024.12.14)\r\n",
      "Collecting Events (from opensearch-py)\r\n",
      "  Obtaining dependency information for Events from https://files.pythonhosted.org/packages/25/ed/e47dec0626edd468c84c04d97769e7ab4ea6457b7f54dcb3f72b17fcd876/Events-0.5-py3-none-any.whl.metadata\r\n",
      "  Downloading Events-0.5-py3-none-any.whl.metadata (3.9 kB)\r\n",
      "Requirement already satisfied: charset-normalizer<4,>=2 in ./.venv/lib/python3.12/site-packages (from requests<3.0.0,>=2.32.0->opensearch-py) (3.4.1)\r\n",
      "Requirement already satisfied: idna<4,>=2.5 in ./.venv/lib/python3.12/site-packages (from requests<3.0.0,>=2.32.0->opensearch-py) (3.10)\r\n",
      "Requirement already satisfied: six>=1.5 in ./.venv/lib/python3.12/site-packages (from python-dateutil->opensearch-py) (1.17.0)\r\n",
      "Downloading opensearch_py-2.8.0-py3-none-any.whl (353 kB)\r\n",
      "\u001B[2K   \u001B[90m━━━━━━━━━━━━━━━━━━━━━━━━━━━━━━━━━━━━━━━━\u001B[0m \u001B[32m353.5/353.5 kB\u001B[0m \u001B[31m8.4 MB/s\u001B[0m eta \u001B[36m0:00:00\u001B[0m:00:01\u001B[0m\r\n",
      "\u001B[?25hDownloading Events-0.5-py3-none-any.whl (6.8 kB)\r\n",
      "Installing collected packages: Events, opensearch-py\r\n",
      "Successfully installed Events-0.5 opensearch-py-2.8.0\r\n",
      "\r\n",
      "\u001B[1m[\u001B[0m\u001B[34;49mnotice\u001B[0m\u001B[1;39;49m]\u001B[0m\u001B[39;49m A new release of pip is available: \u001B[0m\u001B[31;49m23.2.1\u001B[0m\u001B[39;49m -> \u001B[0m\u001B[32;49m24.3.1\u001B[0m\r\n",
      "\u001B[1m[\u001B[0m\u001B[34;49mnotice\u001B[0m\u001B[1;39;49m]\u001B[0m\u001B[39;49m To update, run: \u001B[0m\u001B[32;49mpip install --upgrade pip\u001B[0m\r\n"
     ]
    }
   ],
   "execution_count": 13,
   "source": [
    "import json\n",
    "!pip install pyyaml opensearch-py"
   ],
   "id": "initial_id"
  },
  {
   "metadata": {
    "ExecuteTime": {
     "end_time": "2024-12-29T15:19:23.350633Z",
     "start_time": "2024-12-29T15:19:22.481110Z"
    }
   },
   "cell_type": "code",
   "source": [
    "from opensearchpy import OpenSearch\n",
    "\n",
    "# OpenSearch 클라이언트 설정\n",
    "client = OpenSearch(\n",
    "    hosts=[{'host': 'search-es-demo-iyxa4jcjjehtfbsf3e4d7kjcm4.ap-northeast-2.es.amazonaws.com', 'port': 443}],\n",
    "    http_auth=('admin', 'GenaiSearch1!'),  # 필요한 경우 인증 정보 입력\n",
    "    use_ssl=True,\n",
    "    verify_certs=True\n",
    ")\n",
    "\n",
    "index_name = \"genai_search\"\n",
    "response = client.indices.delete(index=index_name)\n",
    "print(f\"인덱스 '{index_name}' 삭제 결과:\", response)\n",
    "\n",
    "index_mapping = {\n",
    "    \"settings\": {\n",
    "        \"index\": {\n",
    "            \"knn\": True,\n",
    "            \"number_of_shards\": 1,\n",
    "            \"number_of_replicas\": 2\n",
    "        },\n",
    "        \"default_pipeline\": \"nlp-ingest-pipeline\"\n",
    "    },\n",
    "    \"mappings\": {\n",
    "        \"properties\": {\n",
    "            \"current_stock\": {\n",
    "                \"type\": \"integer\"\n",
    "            },\n",
    "            \"name\": {\n",
    "                \"type\": \"keyword\"\n",
    "            },\n",
    "            \"category\": {\n",
    "                \"type\": \"keyword\"\n",
    "            },\n",
    "            \"style\": {\n",
    "                \"type\": \"keyword\"\n",
    "            },\n",
    "            \"description\": {\n",
    "                \"type\": \"keyword\"\n",
    "            },\n",
    "            \"price\": {\n",
    "                \"type\": \"integer\"\n",
    "            },\n",
    "            \"image\": {\n",
    "                \"type\": \"keyword\"\n",
    "            },\n",
    "            \"gender_affinity\": {\n",
    "                \"type\": \"keyword\"\n",
    "            },\n",
    "            \"where_visible\": {\n",
    "                \"type\": \"keyword\"\n",
    "            },\n",
    "            \"name_v\": {\n",
    "                \"type\": \"knn_vector\",\n",
    "                \"dimension\": 1536,\n",
    "                \"method\": {\n",
    "                    \"name\": \"hnsw\",\n",
    "                    \"space_type\": \"l2\",\n",
    "                    \"engine\": \"faiss\"\n",
    "                }\n",
    "            },\n",
    "            \"description_v\": {\n",
    "                \"type\": \"knn_vector\",\n",
    "                \"dimension\": 1536,\n",
    "                \"method\": {\n",
    "                    \"name\": \"hnsw\",\n",
    "                    \"space_type\": \"l2\",\n",
    "                    \"engine\": \"faiss\"\n",
    "                }\n",
    "            }\n",
    "        }\n",
    "    }\n",
    "}\n",
    "response = client.indices.create(index=index_name, body=index_mapping)\n",
    "print(f\"인덱스 '{index_name}' 생성 결과:\", response)"
   ],
   "id": "cd43662a846be877",
   "outputs": [
    {
     "name": "stdout",
     "output_type": "stream",
     "text": [
      "인덱스 'genai_search' 삭제 결과: {'acknowledged': True}\n",
      "인덱스 'genai_search' 생성 결과: {'acknowledged': True, 'shards_acknowledged': True, 'index': 'genai_search'}\n"
     ]
    }
   ],
   "execution_count": 39
  },
  {
   "metadata": {
    "ExecuteTime": {
     "end_time": "2024-12-29T15:19:44.148191Z",
     "start_time": "2024-12-29T15:19:28.907608Z"
    }
   },
   "cell_type": "code",
   "source": [
    "import yaml\n",
    "import json\n",
    "\n",
    "# YAML 파일 열기\n",
    "with open('products.yaml', 'r', encoding='utf-8') as file:\n",
    "    # YAML 파일 내용을 Python 객체로 로드\n",
    "    arr = yaml.safe_load(file)\n",
    "\n",
    "url_prefix = \"https://raw.githubusercontent.com/YonghoChoi/genai-search/refs/heads/main/assets\"\n",
    "bulk_data = \"\"\n",
    "count = 0\n",
    "for data in arr:\n",
    "    image_url = f\"{url_prefix}/{data['category']}/{data['image']}\"\n",
    "    data['image_url'] = image_url\n",
    "    index = {\n",
    "        \"index\": {\n",
    "            \"_index\": index_name,\n",
    "            \"_id\": data.pop(\"id\")\n",
    "        }\n",
    "    }\n",
    "    bulk_data = bulk_data + f\"{json.dumps(index)}\\n{json.dumps(data)}\\n\"\n",
    "    if count == 1000:\n",
    "        # Bulk 인덱싱 수행\n",
    "        resp = client.bulk(bulk_data)\n",
    "        print(resp)\n",
    "        \n",
    "        # 초기화\n",
    "        bulk_data = \"\"\n",
    "        count = 0\n",
    "        continue\n",
    "\n",
    "    count += 1"
   ],
   "id": "8ca9a72c5dc7bfcd",
   "outputs": [],
   "execution_count": 40
  },
  {
   "metadata": {
    "ExecuteTime": {
     "end_time": "2024-12-29T15:31:25.957215Z",
     "start_time": "2024-12-29T15:31:25.879501Z"
    }
   },
   "cell_type": "code",
   "source": [
    "response = client.count(index=index_name)\n",
    "doc_count = response['count']\n",
    "print(f\"인덱스 '{index_name}'의 문서 수: {doc_count}\")"
   ],
   "id": "15c759834b497383",
   "outputs": [
    {
     "name": "stdout",
     "output_type": "stream",
     "text": [
      "인덱스 'genai_search'의 문서 수: 934\n"
     ]
    }
   ],
   "execution_count": 49
  },
  {
   "metadata": {
    "ExecuteTime": {
     "end_time": "2024-12-29T15:31:50.595597Z",
     "start_time": "2024-12-29T15:31:49.180994Z"
    }
   },
   "cell_type": "code",
   "source": [
    "resp = client.search(body={\n",
    "    \"size\": 10,\n",
    "    \"_source\": {\n",
    "        \"includes\": [\n",
    "            \"name\",\n",
    "            \"description\",\n",
    "            \"image_url\"\n",
    "        ],\n",
    "        \"excludes\": [\n",
    "            \"name_v\",\n",
    "            \"description_v\"\n",
    "        ]\n",
    "    },\n",
    "    \"query\": {\n",
    "        \"neural\": {\n",
    "            \"description_v\": {\n",
    "                \"query_text\": \"winter clothes\",\n",
    "                \"model_id\": \"pontz5MBfwuFohZNlfdt\",\n",
    "                \"k\": 10\n",
    "            }\n",
    "        }\n",
    "    }\n",
    "}, index=index_name)\n",
    "print(resp)"
   ],
   "id": "132795c1e85acd69",
   "outputs": [
    {
     "name": "stdout",
     "output_type": "stream",
     "text": [
      "{'took': 1392, 'timed_out': False, '_shards': {'total': 1, 'successful': 1, 'skipped': 0, 'failed': 0}, 'hits': {'total': {'value': 30, 'relation': 'eq'}, 'max_score': 0.0021572823, 'hits': [{'_index': 'genai_search', '_id': '371e0335-6290-446e-90b7-502efd718b4f', '_score': 0.0021572823, '_source': {'image_url': 'https://raw.githubusercontent.com/YonghoChoi/genai-search/refs/heads/main/assets/apparel/371e0335-6290-446e-90b7-502efd718b4f.jpg', 'name': 'Stylish Winter Jacket for Women', 'description': 'The Trendy Winter Jacket keeps you warm and dry during winter adventures. Its water-resistant shell and insulating fleece lining protect you from the cold, while the stylish design and handy pockets add fashion and function. The perfect coat for women exploring the outdoors in comfort and style.'}}, {'_index': 'genai_search', '_id': '1772332f-facc-4f13-b229-2c25f7c360ca', '_score': 0.0020501765, '_source': {'image_url': 'https://raw.githubusercontent.com/YonghoChoi/genai-search/refs/heads/main/assets/apparel/1772332f-facc-4f13-b229-2c25f7c360ca.jpg', 'name': \"Rugged Brown Men's Insulated Fall Coat\", 'description': \"This rugged, stylish dark brown men's insulated fall coat keeps you warm and dry during autumn outdoor adventures. Durable, weather-resistant fabric and a soft lining provide protection from the chill, while classic styling makes this coat a versatile addition to your cool-weather wardrobe.\"}}, {'_index': 'genai_search', '_id': 'cee9e9a1-9949-42a9-92a6-4a4420fcc7a3', '_score': 0.002003026, '_source': {'image_url': 'https://raw.githubusercontent.com/YonghoChoi/genai-search/refs/heads/main/assets/apparel/cee9e9a1-9949-42a9-92a6-4a4420fcc7a3.jpg', 'name': \"Comfy Lemon Insulated Women's Jacket\", 'description': \"This versatile women's jacket keeps you comfortably insulated across seasons. Its lightweight, breathable fabric with premium insulation maintains warmth while preventing overheating. The flattering cut complements daily and outdoor outfits with details like a detachable hood and zippered pockets.\"}}, {'_index': 'genai_search', '_id': 'a05f9009-90b3-4eab-989c-9bc3a99a8062', '_score': 0.001986776, '_source': {'image_url': 'https://raw.githubusercontent.com/YonghoChoi/genai-search/refs/heads/main/assets/apparel/a05f9009-90b3-4eab-989c-9bc3a99a8062.jpg', 'name': \"Durable Insulated Men's Mountain Coat\", 'description': 'Stay warm and protected on your mountain adventures with this durable, insulated black casual coat featuring wind/water-resistant shell, fleece lining, and adjustable hood and cuffs.'}}, {'_index': 'genai_search', '_id': '04f22a7d-97fd-4650-afb6-3537963f647d', '_score': 0.0019690138, '_source': {'image_url': 'https://raw.githubusercontent.com/YonghoChoi/genai-search/refs/heads/main/assets/apparel/04f22a7d-97fd-4650-afb6-3537963f647d.jpg', 'name': 'Cozy Midnight Blue Winter Jacket', 'description': 'Stay toasty in style with our Midnight Blue Winter Jacket, featuring a stylish design, removable hood, and insulating fill to keep you cozy and shielded from harsh elements.'}}, {'_index': 'genai_search', '_id': '9b60b9e7-d6ec-4401-a773-7d037f858418', '_score': 0.0019677426, '_source': {'image_url': 'https://raw.githubusercontent.com/YonghoChoi/genai-search/refs/heads/main/assets/apparel/9b60b9e7-d6ec-4401-a773-7d037f858418.jpg', 'name': 'Versatile All-Season Jacket for Men', 'description': 'The Black Versatile All-Season Jacket is a timeless and sophisticated wardrobe essential for the modern man, offering versatile styling, quality construction and enduring comfort for casual wear year-round.'}}, {'_index': 'genai_search', '_id': 'a26ff192-35d6-411a-9337-abbb793d6b1b', '_score': 0.001963604, '_source': {'image_url': 'https://raw.githubusercontent.com/YonghoChoi/genai-search/refs/heads/main/assets/apparel/a26ff192-35d6-411a-9337-abbb793d6b1b.jpg', 'name': \"Rugged Black Insulated Men's Jacket\", 'description': 'Insulated black coat for men, classic styling with durability to brave the elements while exploring the outdoors in comfort and timeless style.'}}, {'_index': 'genai_search', '_id': '961a5529-ad78-4a28-8b3e-ea491c9a1646', '_score': 0.0019512288, '_source': {'image_url': 'https://raw.githubusercontent.com/YonghoChoi/genai-search/refs/heads/main/assets/apparel/961a5529-ad78-4a28-8b3e-ea491c9a1646.jpg', 'name': \"Cozy Firebrick Women's Insulated Jacket\", 'description': 'This cozy, casual firebrick red jacket keeps you exceptionally warm thanks to its high-quality thick insulation. The relaxed fit flatters while trapping heat, with handy pockets, cuffs and stand collar to seal out cold.'}}, {'_index': 'genai_search', '_id': 'cd86351f-f720-451a-94bc-07c24a8579ef', '_score': 0.0019339004, '_source': {'image_url': 'https://raw.githubusercontent.com/YonghoChoi/genai-search/refs/heads/main/assets/apparel/cd86351f-f720-451a-94bc-07c24a8579ef.jpg', 'name': 'Cozy Goose Down Winter Jacket', 'description': 'Keep warm in frigid temps with our Winter Goose Down Jacket, featuring a water-resistant shell, premium goose down insulation, faux fur-lined hood, and rib-knit storm cuffs to lock in body heat. The ultimate coat for cold weather adventuring.'}}, {'_index': 'genai_search', '_id': '1de0c711-042b-4b47-93d9-3a7d8d969ac6', '_score': 0.0019181436, '_source': {'image_url': 'https://raw.githubusercontent.com/YonghoChoi/genai-search/refs/heads/main/assets/apparel/1de0c711-042b-4b47-93d9-3a7d8d969ac6.jpg', 'name': 'Stylish Firebrick Jacket for Women', 'description': \"Crafted from soft yet durable firebrick-red fabric, this slim-fit lightweight women's jacket features front zip closure, stand collar, front zip pockets, and smooth polyester fabric to provide warmth and a modern, chic look.\"}}]}}\n"
     ]
    }
   ],
   "execution_count": 50
  },
  {
   "metadata": {},
   "cell_type": "code",
   "outputs": [],
   "execution_count": null,
   "source": "",
   "id": "e358fd74c4f3ddf"
  }
 ],
 "metadata": {
  "kernelspec": {
   "display_name": "Python 3",
   "language": "python",
   "name": "python3"
  },
  "language_info": {
   "codemirror_mode": {
    "name": "ipython",
    "version": 2
   },
   "file_extension": ".py",
   "mimetype": "text/x-python",
   "name": "python",
   "nbconvert_exporter": "python",
   "pygments_lexer": "ipython2",
   "version": "2.7.6"
  }
 },
 "nbformat": 4,
 "nbformat_minor": 5
}
